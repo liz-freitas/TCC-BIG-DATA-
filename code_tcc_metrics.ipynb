{
  "nbformat": 4,
  "nbformat_minor": 0,
  "metadata": {
    "colab": {
      "name": "code_tcc_metrics.ipynb",
      "provenance": [],
      "collapsed_sections": [],
      "machine_shape": "hm"
    },
    "kernelspec": {
      "display_name": "Python 3",
      "language": "python",
      "name": "python3"
    },
    "language_info": {
      "codemirror_mode": {
        "name": "ipython",
        "version": 3
      },
      "file_extension": ".py",
      "mimetype": "text/x-python",
      "name": "python",
      "nbconvert_exporter": "python",
      "pygments_lexer": "ipython3",
      "version": "3.7.4"
    }
  },
  "cells": [
    {
      "cell_type": "markdown",
      "metadata": {
        "id": "r20NWFMUyBEa",
        "colab_type": "text"
      },
      "source": [
        "**OBJETIVO:** Este kernel tem como objetivo realizar ajuste fino utilizando os modelos pré-treinados BERT Multilingual e BERT Portuguese para a tarefa de classificação de textos com ideação suicida.\n",
        "\n"
      ]
    },
    {
      "cell_type": "code",
      "metadata": {
        "colab_type": "code",
        "id": "JVL2bNdUn1-w",
        "colab": {}
      },
      "source": [
        "# Instalação das bibliotecas \n",
        "!pip install scikit-learn\n",
        "!pip install transformers\n",
        "!pip install simpletransformers\n"
      ],
      "execution_count": null,
      "outputs": []
    },
    {
      "cell_type": "code",
      "metadata": {
        "colab_type": "code",
        "id": "i7e7QtSFo0Ti",
        "colab": {}
      },
      "source": [
        "# Importação das bibliotecas\n",
        " \n",
        "import pandas as pd\n",
        "from sklearn.model_selection import train_test_split\n",
        "from simpletransformers.classification import ClassificationModel\n",
        "from sklearn.metrics import accuracy_score as acc\n",
        "from sklearn.metrics import precision_score as pr\n",
        "from sklearn.metrics import recall_score as rec\n",
        "from sklearn.metrics import f1_score as f1\n",
        "from sklearn.metrics import roc_auc_score as auc "
      ],
      "execution_count": 2,
      "outputs": []
    },
    {
      "cell_type": "markdown",
      "metadata": {
        "id": "ss5QmWwrnSOs",
        "colab_type": "text"
      },
      "source": [
        "**1. PRIMEIRO CICLO DE MODELAGEM**"
      ]
    },
    {
      "cell_type": "code",
      "metadata": {
        "colab_type": "code",
        "id": "JMCqJKv7o9Wo",
        "colab": {}
      },
      "source": [
        "# Leitura dos arquivos de textos com e sem ideação suicida\n",
        "suicide_data = pd.read_csv('suicidas.txt',sep='delimiter',engine='python', encoding='UTF-8') \n",
        "non_suicide_data = pd.read_csv('nao_suicidas.txt',sep='delimiter',engine='python', encoding='UTF-8')"
      ],
      "execution_count": 3,
      "outputs": []
    },
    {
      "cell_type": "code",
      "metadata": {
        "colab_type": "code",
        "id": "luBk0dCppJ_C",
        "colab": {}
      },
      "source": [
        "#Tranformação em dataframe\n",
        "suicide_data = pd.DataFrame(suicide_data)\n",
        "non_suicide_data = pd.DataFrame(non_suicide_data)"
      ],
      "execution_count": 4,
      "outputs": []
    },
    {
      "cell_type": "code",
      "metadata": {
        "colab_type": "code",
        "id": "1gkRhaaCpMVp",
        "colab": {}
      },
      "source": [
        "# Atribuir nome à coluna\n",
        "suicide_data.columns     = ['mensagem'] \n",
        "non_suicide_data.columns = ['mensagem'] "
      ],
      "execution_count": 5,
      "outputs": []
    },
    {
      "cell_type": "code",
      "metadata": {
        "colab_type": "code",
        "id": "UNahinU4pOOi",
        "colab": {}
      },
      "source": [
        "# Definição das classes: 1 - Mensagens com Ideações Suicidas , 0 - Mensagens sem Ideações Suicidas\n",
        "suicide_data['label'] = 1\n",
        "non_suicide_data['label'] = 0\n",
        "non_suicide_data.head(1)"
      ],
      "execution_count": null,
      "outputs": []
    },
    {
      "cell_type": "code",
      "metadata": {
        "colab_type": "code",
        "id": "sg606Bm2pPx6",
        "colab": {}
      },
      "source": [
        "# Concatenação dos Dados\n",
        "df = pd.concat([suicide_data,non_suicide_data])"
      ],
      "execution_count": 7,
      "outputs": []
    },
    {
      "cell_type": "code",
      "metadata": {
        "colab_type": "code",
        "id": "rIUMskoaD7wt",
        "colab": {}
      },
      "source": [
        "# Seraparação da base de dados para treinamento de teste\n",
        "train_df, eval_df = train_test_split(df, test_size=0.25)"
      ],
      "execution_count": 8,
      "outputs": []
    },
    {
      "cell_type": "markdown",
      "metadata": {
        "id": "MrCzrOvKksH4",
        "colab_type": "text"
      },
      "source": [
        "**AJUSTE FINO**\n",
        "\n",
        "Nesta etapa serão realizados dois ciclos de ajustes finos. O Ciclo 1 será divido em duas etapas.\n",
        "\n",
        "A parametrização para ambos os ciclos será considerada a mesma."
      ]
    },
    {
      "cell_type": "code",
      "metadata": {
        "colab_type": "code",
        "id": "iaNzVr5vkwxq",
        "colab": {}
      },
      "source": [
        "# Parâmetros para ajuste fino\n",
        "\n",
        "train_args={\n",
        "    'reprocess_input_data': True,\n",
        "    'overwrite_output_dir': True,\n",
        "    #'evaluate_during_training': False,\n",
        "    'logging_steps': 0.5,\n",
        "    #'stride': 0.8,\n",
        "    'max_seq_length': 254,\n",
        "    'num_train_epochs': 3\n",
        "}"
      ],
      "execution_count": 9,
      "outputs": []
    },
    {
      "cell_type": "markdown",
      "metadata": {
        "id": "6_DP76MEo70k",
        "colab_type": "text"
      },
      "source": [
        "**1.1 ETAPA 1**\n",
        "\n",
        "Nesta etapa será realizado o ajuste fino com o modelo pré-treinado bert-base-multilingual-cased.\n"
      ]
    },
    {
      "cell_type": "code",
      "metadata": {
        "colab_type": "code",
        "id": "6z3_HNOCDL7d",
        "colab": {}
      },
      "source": [
        "# BERT MULTILINGUAL\n",
        "\n",
        "model_Bert = ClassificationModel('bert', 'bert-base-multilingual-cased', args=train_args, use_cuda=False)\n"
      ],
      "execution_count": null,
      "outputs": []
    },
    {
      "cell_type": "code",
      "metadata": {
        "colab_type": "code",
        "id": "P616iSwuf29y",
        "colab": {}
      },
      "source": [
        "model_Bert.train_model(train_df)"
      ],
      "execution_count": null,
      "outputs": []
    },
    {
      "cell_type": "code",
      "metadata": {
        "colab_type": "code",
        "id": "F8eVU028UyUl",
        "colab": {}
      },
      "source": [
        "# Evaluate the model\n",
        "result, model_outputs, wrong_predictions = model_Bert.eval_model(eval_df, acuracia=acc,precisao = pr,recall = rec, f1 = f1, auc = auc)\n",
        "result"
      ],
      "execution_count": null,
      "outputs": []
    },
    {
      "cell_type": "markdown",
      "metadata": {
        "id": "1B6_OmcBr5g8",
        "colab_type": "text"
      },
      "source": [
        "**1.1 ETAPA 2**\n",
        "\n",
        "Na Etapa 2 é feita uma nova avaliação do modelo gerado no ajuste fino(etapa 1), porém com novos dados."
      ]
    },
    {
      "cell_type": "code",
      "metadata": {
        "id": "ZvP5M-F1pHEN",
        "colab_type": "code",
        "colab": {}
      },
      "source": [
        "eval_model = pd.read_csv('nova_base_avaliacao.csv',sep=';',engine='python', encoding='ISO-8859-1')"
      ],
      "execution_count": 21,
      "outputs": []
    },
    {
      "cell_type": "code",
      "metadata": {
        "id": "g7FicUVtr_Zm",
        "colab_type": "code",
        "colab": {}
      },
      "source": [
        "# Evaluate the model\n",
        "result, model_outputs, wrong_predictions = model_Bert.eval_model(eval_df, acuracia=acc,precisao = pr,recall = rec, f1 = f1, auc = auc)\n",
        "result"
      ],
      "execution_count": null,
      "outputs": []
    },
    {
      "cell_type": "markdown",
      "metadata": {
        "id": "ZzclP05rnude",
        "colab_type": "text"
      },
      "source": [
        "**2° CICLO DE MODELAGEM**"
      ]
    },
    {
      "cell_type": "code",
      "metadata": {
        "id": "AJ2ItWGfoHN8",
        "colab_type": "code",
        "colab": {}
      },
      "source": [
        "# Leitura dos arquivos de textos com e sem ideação suicida\n",
        "non_suicide_data = pd.read_csv('nao_suicidas_v2.csv',sep=';',engine='python', encoding='ISO-8859-1')\n",
        "suicide_data = pd.read_csv('suicidas_v2.csv',sep=';',engine='python', encoding='ISO-8859-1')\n"
      ],
      "execution_count": 25,
      "outputs": []
    },
    {
      "cell_type": "code",
      "metadata": {
        "id": "RlWWKDOuoSuH",
        "colab_type": "code",
        "colab": {}
      },
      "source": [
        "#Tranformação em dataframe\n",
        "suicide_data = pd.DataFrame(suicide_data)\n",
        "non_suicide_data = pd.DataFrame(non_suicide_data)"
      ],
      "execution_count": 26,
      "outputs": []
    },
    {
      "cell_type": "code",
      "metadata": {
        "id": "CU-DsdcXoS4z",
        "colab_type": "code",
        "colab": {}
      },
      "source": [
        "# Concatenação dos Dados\n",
        "df = pd.concat([suicide_data,non_suicide_data])"
      ],
      "execution_count": 32,
      "outputs": []
    },
    {
      "cell_type": "code",
      "metadata": {
        "id": "QolVQFQToeq_",
        "colab_type": "code",
        "colab": {}
      },
      "source": [
        "# Seraparação da base de dados para treinamento de teste\n",
        "train_df, eval_df = train_test_split(df, test_size=0.25)"
      ],
      "execution_count": 33,
      "outputs": []
    },
    {
      "cell_type": "code",
      "metadata": {
        "id": "7vfHMrPfnxt2",
        "colab_type": "code",
        "colab": {}
      },
      "source": [
        "# BERT PORTUGUESE\n",
        "model_Bert = ClassificationModel('bert', 'neuralmind/bert-base-portuguese-cased', args=train_args, use_cuda=False)"
      ],
      "execution_count": null,
      "outputs": []
    },
    {
      "cell_type": "code",
      "metadata": {
        "id": "ppvDnmXloCtV",
        "colab_type": "code",
        "colab": {}
      },
      "source": [
        "model_Bert.train_model(train_df)"
      ],
      "execution_count": null,
      "outputs": []
    },
    {
      "cell_type": "code",
      "metadata": {
        "id": "5z3j_Qt2oDvF",
        "colab_type": "code",
        "colab": {}
      },
      "source": [
        "# Evaluate the model\n",
        "result, model_outputs, wrong_predictions = model_Bert.eval_model(eval_df, acuracia=acc,precisao = pr,recall = rec, f1 = f1, auc = auc)\n",
        "result"
      ],
      "execution_count": null,
      "outputs": []
    }
  ]
}